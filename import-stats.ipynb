{
 "cells": [
  {
   "cell_type": "code",
   "execution_count": 44,
   "metadata": {},
   "outputs": [],
   "source": [
    "import pandas as pd\n",
    "import numpy as np\n",
    "import re\n",
    "from datetime import timedelta\n",
    "import pycountry_convert as pc"
   ]
  },
  {
   "cell_type": "code",
   "execution_count": 45,
   "metadata": {},
   "outputs": [],
   "source": [
    "df = pd.read_csv('main.csv', sep=';', encoding='windows-1251')"
   ]
  },
  {
   "cell_type": "code",
   "execution_count": 46,
   "metadata": {},
   "outputs": [],
   "source": [
    "# shorten column names so that only data codes remain\n",
    "\n",
    "df = df.rename(columns=lambda x: x.split(\" \")[0])"
   ]
  },
  {
   "cell_type": "code",
   "execution_count": 47,
   "metadata": {},
   "outputs": [],
   "source": [
    "# filter only necessary columns\n",
    "\n",
    "df = df[['ND', 'G071', 'G072', 'GD1', 'G011', 'G141', 'G142', 'G143', 'G15', 'G15A', 'G202', 'G30CITY', 'G541_INN', 'G33', 'FIRM']]"
   ]
  },
  {
   "cell_type": "code",
   "execution_count": 48,
   "metadata": {},
   "outputs": [],
   "source": [
    "# G33 (customs code) column values had a filter-like format for some reason\n",
    "\n",
    "df['G33'] = df['G33'].str.replace('=', '')\n",
    "df['G33'] = df['G33'].str.replace('\"', '')"
   ]
  },
  {
   "cell_type": "code",
   "execution_count": 49,
   "metadata": {},
   "outputs": [],
   "source": [
    "# extract the precise declaration number from the complex format used in 'ND' column\n",
    "    \n",
    "df['ND'] = df.ND.apply(lambda x: x.split(\"/\")[2])"
   ]
  },
  {
   "cell_type": "code",
   "execution_count": 50,
   "metadata": {},
   "outputs": [],
   "source": [
    "# drop duplicates to get unique declaration numbers\n",
    "\n",
    "df = df.drop_duplicates().reset_index(drop=True)"
   ]
  },
  {
   "cell_type": "code",
   "execution_count": 51,
   "metadata": {},
   "outputs": [],
   "source": [
    "# drop quotation marks and shorten legal entity form\n",
    "\n",
    "dict_of_legal_entities = {'ОБЩЕСТВО С ОГРАНИЧЕННОЙ ОТВЕТСТВЕННОСТЬЮ': 'ООО',\n",
    "                            'ОТКРЫТОЕ АКЦИОНЕРНОЕ ОБЩЕСТВО': 'ОАО',\n",
    "                            'АКЦИОНЕРНОЕ ОБЩЕСТВО': 'АО',\n",
    "                            'ПУБЛИЧНОЕ АКЦИОНЕРНОЕ ОБЩЕСТВО': 'ПАО',\n",
    "                            'ЗАКРЫТОЕ АКЦИОНЕРНОЕ ОБЩЕСТВО': 'ЗАО',\n",
    "                            'ИНДИВИДУАЛЬНЫЙ ПРЕДПРИНИМАТЕЛЬ': 'ИП',\n",
    "                            '\"': '',\n",
    "                            '<': '',\n",
    "                            '>': '',\n",
    "                            '\\'\\'': ''}\n",
    "\n",
    "\n",
    "def shorten_legal_entity(x):\n",
    "    for key, value in dict_of_legal_entities.items():\n",
    "        x = x.replace(key, value)\n",
    "    return x\n",
    "\n",
    "\n",
    "df['G142'] = df.G142.apply(shorten_legal_entity)"
   ]
  },
  {
   "cell_type": "code",
   "execution_count": 52,
   "metadata": {},
   "outputs": [],
   "source": [
    "# place legal entity form after the company name\n",
    "\n",
    "def reformat_company_name(x):\n",
    "    if x.startswith(('ООО', 'ОАО', 'АО ', 'ПАО', 'ЗАО', 'ИП ')):\n",
    "        return x[3:].strip() + ', ' + x[:3].strip()\n",
    "    else:\n",
    "        return x.strip()\n",
    "\n",
    "\n",
    "df['G142'] = df.G142.apply(reformat_company_name)"
   ]
  },
  {
   "cell_type": "code",
   "execution_count": 53,
   "metadata": {},
   "outputs": [],
   "source": [
    "# slight clarification of acronyms\n",
    "\n",
    "df['G011'] = df.G011.apply(lambda x: x.replace('ИМ', 'Импорт'))\n",
    "df['G011'] = df.G011.apply(lambda x: x.replace('ЭК', 'Экспорт'))"
   ]
  },
  {
   "cell_type": "code",
   "execution_count": 54,
   "metadata": {},
   "outputs": [],
   "source": [
    "# convert dates to respective format and indicate shipments with late release (>1 days after registration) in a new column\n",
    "\n",
    "df['G072'] = df.G072.apply(pd.to_datetime, format='%d.%m.%Y')\n",
    "df['GD1'] = df.GD1.apply(pd.to_datetime, format='%d.%m.%Y')\n",
    "\n",
    "df['late_release'] = df['GD1'] - df['G072'] > timedelta(1)"
   ]
  },
  {
   "cell_type": "code",
   "execution_count": 55,
   "metadata": {},
   "outputs": [],
   "source": [
    "# extract registration months for aggregation\n",
    "\n",
    "df['month_year'] = df['G072'].dt.month.astype(str) + '_' + df['G072'].dt.year.astype(str)"
   ]
  },
  {
   "cell_type": "code",
   "execution_count": 56,
   "metadata": {},
   "outputs": [],
   "source": [
    "# total declarations per company\n",
    "agg = df.groupby('G142', as_index=False).agg({'ND':'count'})"
   ]
  },
  {
   "cell_type": "code",
   "execution_count": 57,
   "metadata": {},
   "outputs": [],
   "source": [
    "# average declarations per month during the requested period\n",
    "\n",
    "agg['avg_declarations'] = (agg['ND'] / df.month_year.nunique()).round()\n",
    "agg = agg[['G142', 'avg_declarations']]"
   ]
  },
  {
   "cell_type": "code",
   "execution_count": 58,
   "metadata": {},
   "outputs": [],
   "source": [
    "# convert country code to continent name\n",
    "\n",
    "def assign_continents(x):\n",
    "    if type(x) == str:\n",
    "        у = pc.country_alpha2_to_continent_code(x)\n",
    "        return pc.convert_continent_code_to_continent_name(у)\n",
    "    return None\n",
    "\n",
    "df['continent'] = df['G15A'].apply(assign_continents)"
   ]
  },
  {
   "cell_type": "code",
   "execution_count": 59,
   "metadata": {},
   "outputs": [],
   "source": [
    "# restructuring data for further aggregation\n",
    "\n",
    "df['incoterms_country'] = df['G202'] + '_' + df['G15']\n",
    "\n",
    "\n",
    "def concatenate_inn(inn, firm):\n",
    "    if type(inn) == str and type(firm) == str:\n",
    "        return 'ИНН:' + inn.strip() + ' | ' + firm.strip()\n",
    "    elif type(inn) == str and type(firm) != str:\n",
    "        return 'ИНН:' + inn.strip()\n",
    "    return firm\n",
    "\n",
    "df['company_info'] = df.apply(lambda x: concatenate_inn(x.G141, x.FIRM), axis=1)\n",
    "\n",
    "df['customs_point'] = df['G071'].astype(str) + '_' + df['G30CITY']"
   ]
  },
  {
   "cell_type": "code",
   "execution_count": 60,
   "metadata": {},
   "outputs": [],
   "source": [
    "# assign late tag to companies with any non-zero number of late shipments\n",
    "\n",
    "late = df.groupby('G142', as_index=False).agg({'late_release':'mean'})\n",
    "late['late_tag'] = late['late_release'].apply(lambda x: 'late' if x > 0 else '')\n",
    "late = late[['G142', 'late_tag']]"
   ]
  },
  {
   "cell_type": "code",
   "execution_count": 61,
   "metadata": {},
   "outputs": [],
   "source": [
    "# filtering only necessary columns\n",
    "\n",
    "df = df[['G142', 'G011', 'G143', 'G15', 'G541_INN', 'G33', 'continent', 'incoterms_country', 'company_info', 'customs_point']]"
   ]
  },
  {
   "cell_type": "code",
   "execution_count": 62,
   "metadata": {},
   "outputs": [],
   "source": [
    "# group by company, concatenating all values in all columns\n",
    "\n",
    "agg_import = df.fillna('').astype(str).groupby('G142', as_index=False).agg(\n",
    "    lambda x: re.sub(',+', ', ', ', '.join(x.unique())))"
   ]
  },
  {
   "cell_type": "code",
   "execution_count": 63,
   "metadata": {},
   "outputs": [],
   "source": [
    "# merge data on late tags and average declaration to main dataframe\n",
    "\n",
    "agg_import = agg_import.merge(agg, how='left', on='G142')\n",
    "agg_import = agg_import.merge(late, how='left', on='G142')"
   ]
  },
  {
   "cell_type": "code",
   "execution_count": 64,
   "metadata": {},
   "outputs": [
    {
     "data": {
      "text/html": [
       "<div>\n",
       "<style scoped>\n",
       "    .dataframe tbody tr th:only-of-type {\n",
       "        vertical-align: middle;\n",
       "    }\n",
       "\n",
       "    .dataframe tbody tr th {\n",
       "        vertical-align: top;\n",
       "    }\n",
       "\n",
       "    .dataframe thead th {\n",
       "        text-align: right;\n",
       "    }\n",
       "</style>\n",
       "<table border=\"1\" class=\"dataframe\">\n",
       "  <thead>\n",
       "    <tr style=\"text-align: right;\">\n",
       "      <th></th>\n",
       "      <th>G142</th>\n",
       "      <th>G011</th>\n",
       "      <th>G143</th>\n",
       "      <th>G15</th>\n",
       "      <th>G541_INN</th>\n",
       "      <th>G33</th>\n",
       "      <th>continent</th>\n",
       "      <th>incoterms_country</th>\n",
       "      <th>company_info</th>\n",
       "      <th>customs_point</th>\n",
       "      <th>avg_declarations</th>\n",
       "      <th>late_tag</th>\n",
       "    </tr>\n",
       "  </thead>\n",
       "  <tbody>\n",
       "    <tr>\n",
       "      <th>0</th>\n",
       "      <td>5С ГРУПП, ООО</td>\n",
       "      <td>Импорт</td>\n",
       "      <td>111020,  ,  МОСКВА,  БОРОВАЯ,  Д.7,  СТР.30,</td>\n",
       "      <td>ТАЙВАНЬ (КИТАЙ),  УЗБЕКИСТАН,  ОБЪЕДИНЕННЫЕ АР...</td>\n",
       "      <td></td>\n",
       "      <td>8473302008</td>\n",
       "      <td>Asia</td>\n",
       "      <td>CPT_ТАЙВАНЬ (КИТАЙ),  CPT_УЗБЕКИСТАН,  CPT_ОБЪ...</td>\n",
       "      <td>ИНН:7722784854 | ОГРН:1127746675320 | Рук.:Нов...</td>\n",
       "      <td>10005030_ТЕР.,  10005030_Г. ХИМКИ</td>\n",
       "      <td>1.0</td>\n",
       "      <td></td>\n",
       "    </tr>\n",
       "    <tr>\n",
       "      <th>1</th>\n",
       "      <td>DEXP LNTERNATIONAL LIMITED</td>\n",
       "      <td>Импорт</td>\n",
       "      <td>,  ,  WANCHAI,  RM 12110,  12/F,  YF LIFE TOWE...</td>\n",
       "      <td>НИДЕРЛАНДЫ</td>\n",
       "      <td>7716640565</td>\n",
       "      <td>8473302008</td>\n",
       "      <td>Europe</td>\n",
       "      <td>EXW_НИДЕРЛАНДЫ</td>\n",
       "      <td>ИНН:69868473##</td>\n",
       "      <td>10013160_С. АКУЛОВО</td>\n",
       "      <td>0.0</td>\n",
       "      <td></td>\n",
       "    </tr>\n",
       "    <tr>\n",
       "      <th>2</th>\n",
       "      <td>OOO СИТИДИАЙ РАША</td>\n",
       "      <td>Импорт</td>\n",
       "      <td>117556,  ГОРОД,  МОСКВА,  ЧОНГАРСКИЙ БУЛЬВАР, ...</td>\n",
       "      <td>ПОЛЬША</td>\n",
       "      <td></td>\n",
       "      <td>8473302008</td>\n",
       "      <td>Europe</td>\n",
       "      <td>DAP_ПОЛЬША</td>\n",
       "      <td>ИНН:7730608563 | ОГРН:1097746188748 | Рук.:Пеш...</td>\n",
       "      <td>10005030_Г. ХИМКИ</td>\n",
       "      <td>0.0</td>\n",
       "      <td>late</td>\n",
       "    </tr>\n",
       "  </tbody>\n",
       "</table>\n",
       "</div>"
      ],
      "text/plain": [
       "                         G142    G011  \\\n",
       "0               5С ГРУПП, ООО  Импорт   \n",
       "1  DEXP LNTERNATIONAL LIMITED  Импорт   \n",
       "2           OOO СИТИДИАЙ РАША  Импорт   \n",
       "\n",
       "                                                G143  \\\n",
       "0      111020,  ,  МОСКВА,  БОРОВАЯ,  Д.7,  СТР.30,    \n",
       "1  ,  ,  WANCHAI,  RM 12110,  12/F,  YF LIFE TOWE...   \n",
       "2  117556,  ГОРОД,  МОСКВА,  ЧОНГАРСКИЙ БУЛЬВАР, ...   \n",
       "\n",
       "                                                 G15    G541_INN         G33  \\\n",
       "0  ТАЙВАНЬ (КИТАЙ),  УЗБЕКИСТАН,  ОБЪЕДИНЕННЫЕ АР...              8473302008   \n",
       "1                                         НИДЕРЛАНДЫ  7716640565  8473302008   \n",
       "2                                             ПОЛЬША              8473302008   \n",
       "\n",
       "  continent                                  incoterms_country  \\\n",
       "0      Asia  CPT_ТАЙВАНЬ (КИТАЙ),  CPT_УЗБЕКИСТАН,  CPT_ОБЪ...   \n",
       "1    Europe                                     EXW_НИДЕРЛАНДЫ   \n",
       "2    Europe                                         DAP_ПОЛЬША   \n",
       "\n",
       "                                        company_info  \\\n",
       "0  ИНН:7722784854 | ОГРН:1127746675320 | Рук.:Нов...   \n",
       "1                                     ИНН:69868473##   \n",
       "2  ИНН:7730608563 | ОГРН:1097746188748 | Рук.:Пеш...   \n",
       "\n",
       "                       customs_point  avg_declarations late_tag  \n",
       "0  10005030_ТЕР.,  10005030_Г. ХИМКИ               1.0           \n",
       "1                10013160_С. АКУЛОВО               0.0           \n",
       "2                  10005030_Г. ХИМКИ               0.0     late  "
      ]
     },
     "execution_count": 64,
     "metadata": {},
     "output_type": "execute_result"
    }
   ],
   "source": [
    "agg_import.head(3)"
   ]
  },
  {
   "cell_type": "code",
   "execution_count": 65,
   "metadata": {},
   "outputs": [],
   "source": [
    "writer = pd.ExcelWriter('PythonExport.xlsx')\n",
    "agg_import.to_excel(writer,'Sheet5')\n",
    "writer.save()"
   ]
  },
  {
   "cell_type": "code",
   "execution_count": null,
   "metadata": {},
   "outputs": [],
   "source": []
  }
 ],
 "metadata": {
  "kernelspec": {
   "display_name": "Python 3.10.7 64-bit",
   "language": "python",
   "name": "python3"
  },
  "language_info": {
   "codemirror_mode": {
    "name": "ipython",
    "version": 3
   },
   "file_extension": ".py",
   "mimetype": "text/x-python",
   "name": "python",
   "nbconvert_exporter": "python",
   "pygments_lexer": "ipython3",
   "version": "3.10.7 (tags/v3.10.7:6cc6b13, Sep  5 2022, 14:08:36) [MSC v.1933 64 bit (AMD64)]"
  },
  "orig_nbformat": 4,
  "vscode": {
   "interpreter": {
    "hash": "6168394c1d471a8b0e88ebd9b23486d2db9e87763121fc0dd1725bd83c9b54c2"
   }
  }
 },
 "nbformat": 4,
 "nbformat_minor": 2
}
